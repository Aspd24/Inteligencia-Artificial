{
  "nbformat": 4,
  "nbformat_minor": 0,
  "metadata": {
    "colab": {
      "provenance": []
    },
    "kernelspec": {
      "name": "python3",
      "display_name": "Python 3"
    },
    "language_info": {
      "name": "python"
    }
  },
  "cells": [
    {
      "cell_type": "code",
      "source": [
        "#A:2 Ejercicios de Python Nombre:Arath Sebastian Ponce Diaz  Matricula:2029766  Hora: Sabatinos N1-N3"
      ],
      "metadata": {
        "id": "TLRd_e2wY_CR"
      },
      "execution_count": null,
      "outputs": []
    },
    {
      "cell_type": "code",
      "execution_count": 6,
      "metadata": {
        "colab": {
          "base_uri": "https://localhost:8080/"
        },
        "id": "TCOVewEZNRqe",
        "outputId": "a043dcee-c9ea-4cf1-d33c-d30ef39c5561"
      },
      "outputs": [
        {
          "name": "stdout",
          "output_type": "stream",
          "text": [
            "Por favor, ingresa un número: 1\n",
            "1 es un número impar.\n",
            "¿Deseas verificar otro número? (Sí/No): n\n"
          ]
        }
      ],
      "source": [
        "# 1. Escribe un programa que solicite al usuario un número y que indique si es par o impar.\n",
        "while True:\n",
        "    # Solicitar al usuario un número\n",
        "    numero = int(input(\"Por favor, ingresa un número: \"))\n",
        "\n",
        "    # Comprobar si el número es par o impar\n",
        "    if numero % 2 == 0:\n",
        "        print(f\"{numero} es un número par.\")\n",
        "    else:\n",
        "        print(f\"{numero} es un número impar.\")\n",
        "\n",
        "    # Preguntar al usuario si desea repetir\n",
        "    respuesta = input(\"¿Deseas verificar otro número? (Sí/No): \").lower()\n",
        "    if respuesta != \"si\":\n",
        "        break"
      ]
    },
    {
      "cell_type": "code",
      "source": [
        "# 2. Escribe un programa que tome una lista de números ingresados por el usuario y muestre la lista en orden inverso.\n",
        "# Solicitar al usuario una lista de números separados por espacios\n",
        "entrada = input(\"Por favor, ingresa una lista de números separados por espacios: \")\n",
        "\n",
        "# Dividir la entrada del usuario en una lista de números\n",
        "numeros = entrada.split()\n",
        "\n",
        "# Convertir los números a enteros\n",
        "numeros = [int(numero) for numero in numeros]\n",
        "\n",
        "# Mostrar la lista en orden inverso\n",
        "numeros_inversos = list(reversed(numeros))\n",
        "print(\"La lista en orden inverso es:\", numeros_inversos)\n"
      ],
      "metadata": {
        "colab": {
          "base_uri": "https://localhost:8080/"
        },
        "id": "5Ss97SWnOEmH",
        "outputId": "6948faf5-17bf-42bd-de91-be334f968466"
      },
      "execution_count": null,
      "outputs": [
        {
          "output_type": "stream",
          "name": "stdout",
          "text": [
            "Por favor, ingresa una lista de números separados por espacios: 1 2 3 4 \n",
            "La lista en orden inverso es: [4, 3, 2, 1]\n"
          ]
        }
      ]
    },
    {
      "cell_type": "code",
      "source": [],
      "metadata": {
        "id": "DLeK9N5aY6xz"
      },
      "execution_count": null,
      "outputs": []
    },
    {
      "cell_type": "code",
      "source": [
        " # 3.Juego de adivinar el número: Crea un programa que genere un número aleatorio entre 1 y 100, y luego le pida al usuario que adivine el número. El programa debe proporcionar pistas al usuario si el número es mayor o menor que el número objetivo, y seguir solicitando un nuevo intento hasta que el usuario adivine correctamente.\n",
        " import random\n",
        "\n",
        "# Generar un número aleatorio entre 1 y 100\n",
        "numero_objetivo = random.randint(1, 100)\n",
        "\n",
        "intentos = 0\n",
        "\n",
        "print(\"¡Bienvenido al juego de adivinar el número!\")\n",
        "\n",
        "while True:\n",
        "    intento = int(input(\"Adivina el número (entre 1 y 100): \"))\n",
        "    intentos += 1\n",
        "\n",
        "    if intento < numero_objetivo:\n",
        "        print(\"El número objetivo es mayor. Intenta de nuevo.\")\n",
        "    elif intento > numero_objetivo:\n",
        "        print(\"El número objetivo es menor. Intenta de nuevo.\")\n",
        "    else:\n",
        "        print(f\"¡Felicidades! Adivinaste el número {numero_objetivo} en {intentos} intentos.\")\n",
        "        break\n",
        "\n"
      ],
      "metadata": {
        "colab": {
          "base_uri": "https://localhost:8080/"
        },
        "id": "-HV6rB8NOp6E",
        "outputId": "970ee3e0-631e-4289-af21-c42b42f65730"
      },
      "execution_count": null,
      "outputs": [
        {
          "output_type": "stream",
          "name": "stdout",
          "text": [
            "¡Bienvenido al juego de adivinar el número!\n",
            "Adivina el número (entre 1 y 100): 2\n",
            "El número objetivo es mayor. Intenta de nuevo.\n",
            "Adivina el número (entre 1 y 100): 45\n",
            "El número objetivo es mayor. Intenta de nuevo.\n",
            "Adivina el número (entre 1 y 100): 50\n",
            "El número objetivo es menor. Intenta de nuevo.\n",
            "Adivina el número (entre 1 y 100): 40\n",
            "El número objetivo es mayor. Intenta de nuevo.\n",
            "Adivina el número (entre 1 y 100): 41\n",
            "El número objetivo es mayor. Intenta de nuevo.\n",
            "Adivina el número (entre 1 y 100): 43\n",
            "El número objetivo es mayor. Intenta de nuevo.\n",
            "Adivina el número (entre 1 y 100): 46\n",
            "¡Felicidades! Adivinaste el número 46 en 7 intentos.\n"
          ]
        }
      ]
    },
    {
      "cell_type": "code",
      "source": [
        "#4. Ejercicio de cálculo de números primos en un rango dado:\n",
        "def es_primo(numero):\n",
        "    if numero <= 1:\n",
        "        return False\n",
        "    if numero <= 3:\n",
        "        return True\n",
        "    if numero % 2 == 0 or numero % 3 == 0:\n",
        "        return False\n",
        "    i = 5\n",
        "    while i * i <= numero:\n",
        "        if numero % i == 0 or numero % (i + 2) == 0:\n",
        "            return False\n",
        "        i += 6\n",
        "    return True\n",
        "\n",
        "# Solicitar al usuario un rango de números\n",
        "inicio = int(input(\"Por favor, ingresa el número inicial del rango: \"))\n",
        "fin = int(input(\"Por favor, ingresa el número final del rango: \"))\n",
        "\n",
        "print(f\"Los números primos en el rango de {inicio} a {fin} son:\")\n",
        "\n",
        "# Encontrar y mostrar los números primos en el rango\n",
        "for numero in range(inicio, fin + 1):\n",
        "    if es_primo(numero):\n",
        "        print(numero, end=\" \")"
      ],
      "metadata": {
        "colab": {
          "base_uri": "https://localhost:8080/"
        },
        "id": "8WanrOfMPSKb",
        "outputId": "5759a437-a3a8-4cd7-d93b-4ae51a3fe3f1"
      },
      "execution_count": null,
      "outputs": [
        {
          "output_type": "stream",
          "name": "stdout",
          "text": [
            "Por favor, ingresa el número inicial del rango: 1\n",
            "Por favor, ingresa el número final del rango: 5\n",
            "Los números primos en el rango de 1 a 5 son:\n",
            "2 3 5 "
          ]
        }
      ]
    }
  ]
}